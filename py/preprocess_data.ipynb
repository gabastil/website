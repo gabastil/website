{
 "cells": [
  {
   "cell_type": "markdown",
   "metadata": {},
   "source": [
    "<a id=\"top\"></a>\n",
    "# Preprocessing Data\n",
    "Glenn Abastillas | February 26, 2020\n",
    "\n",
    "This notebook contains functions and logic to preprocess raw data before upload to the domain.\n",
    "\n",
    "Contents\n",
    "  1. [Load Data](#load_data)\n",
    "  1. [View Data](#view_data)\n",
    "  1. [Normalize Values](#normalize_values)\n",
    "  1. [Augment Data](#augment_data)\n",
    "  1. [Subset Data](#subset_data)\n",
    "  \n",
    "\n",
    "### Load Data <a id=\"load_data\"></a>"
   ]
  },
  {
   "cell_type": "code",
   "execution_count": 20,
   "metadata": {},
   "outputs": [],
   "source": [
    "import pandas as pd\n",
    "import numpy as np\n",
    "from pathlib import Path\n",
    "\n",
    "PATH_TO_DATA = Path(\"../resources/data\")\n",
    "THESIS = PATH_TO_DATA / \"thesis_data.csv\"\n",
    "LETTERS = PATH_TO_DATA / \"letters.csv\"\n",
    "\n",
    "thesis, letters = pd.read_csv(THESIS), pd.read_csv(LETTERS)"
   ]
  },
  {
   "cell_type": "markdown",
   "metadata": {},
   "source": [
    "[to top](#top)\n",
    "\n",
    "### View Data <a id=\"view_data\"></a>\n",
    "\n",
    "Visual inspection of the data before processing it."
   ]
  },
  {
   "cell_type": "code",
   "execution_count": 21,
   "metadata": {},
   "outputs": [
    {
     "data": {
      "text/html": [
       "<div>\n",
       "<style scoped>\n",
       "    .dataframe tbody tr th:only-of-type {\n",
       "        vertical-align: middle;\n",
       "    }\n",
       "\n",
       "    .dataframe tbody tr th {\n",
       "        vertical-align: top;\n",
       "    }\n",
       "\n",
       "    .dataframe thead th {\n",
       "        text-align: right;\n",
       "    }\n",
       "</style>\n",
       "<table border=\"1\" class=\"dataframe\">\n",
       "  <thead>\n",
       "    <tr style=\"text-align: right;\">\n",
       "      <th></th>\n",
       "      <th>region</th>\n",
       "      <th>cs</th>\n",
       "      <th>tweet</th>\n",
       "      <th>lat</th>\n",
       "      <th>lon</th>\n",
       "      <th>language</th>\n",
       "    </tr>\n",
       "  </thead>\n",
       "  <tbody>\n",
       "    <tr>\n",
       "      <th>7335</th>\n",
       "      <td>m</td>\n",
       "      <td>FALSE</td>\n",
       "      <td>My view right now.. Thank You Lord for this w...</td>\n",
       "      <td>124.615300</td>\n",
       "      <td>8.423269</td>\n",
       "      <td>0</td>\n",
       "    </tr>\n",
       "    <tr>\n",
       "      <th>1430</th>\n",
       "      <td>d</td>\n",
       "      <td>FALSE</td>\n",
       "      <td>@carlsulla @alanithegreat scare tolerance...</td>\n",
       "      <td>7.073170</td>\n",
       "      <td>125.583464</td>\n",
       "      <td>0</td>\n",
       "    </tr>\n",
       "    <tr>\n",
       "      <th>3640</th>\n",
       "      <td>c</td>\n",
       "      <td>FALSE</td>\n",
       "      <td>@AngeloOuanos thank you \\ud83d \\ude02 \\ud83d ...</td>\n",
       "      <td>10.318129</td>\n",
       "      <td>123.906451</td>\n",
       "      <td>0</td>\n",
       "    </tr>\n",
       "    <tr>\n",
       "      <th>3081</th>\n",
       "      <td>c</td>\n",
       "      <td>TRUE</td>\n",
       "      <td>wtf nakatog ko nya wa pakoy tuon</td>\n",
       "      <td>10.314580</td>\n",
       "      <td>123.885872</td>\n",
       "      <td>Cebuano</td>\n",
       "    </tr>\n",
       "    <tr>\n",
       "      <th>5705</th>\n",
       "      <td>m</td>\n",
       "      <td>FALSE</td>\n",
       "      <td>Anew</td>\n",
       "      <td>124.617858</td>\n",
       "      <td>8.459436</td>\n",
       "      <td>0</td>\n",
       "    </tr>\n",
       "  </tbody>\n",
       "</table>\n",
       "</div>"
      ],
      "text/plain": [
       "     region     cs                                              tweet  \\\n",
       "7335      m  FALSE   My view right now.. Thank You Lord for this w...   \n",
       "1430      d  FALSE       @carlsulla @alanithegreat scare tolerance...   \n",
       "3640      c  FALSE   @AngeloOuanos thank you \\ud83d \\ude02 \\ud83d ...   \n",
       "3081      c   TRUE                   wtf nakatog ko nya wa pakoy tuon   \n",
       "5705      m  FALSE                                               Anew   \n",
       "\n",
       "             lat         lon language  \n",
       "7335  124.615300    8.423269        0  \n",
       "1430    7.073170  125.583464        0  \n",
       "3640   10.318129  123.906451        0  \n",
       "3081   10.314580  123.885872  Cebuano  \n",
       "5705  124.617858    8.459436        0  "
      ]
     },
     "execution_count": 21,
     "metadata": {},
     "output_type": "execute_result"
    }
   ],
   "source": [
    "thesis.sample(5)"
   ]
  },
  {
   "cell_type": "markdown",
   "metadata": {},
   "source": [
    "[to top](#top)\n",
    "\n",
    "### Normalize Values <a id=\"normalize_values\"></a>\n",
    "\n",
    "Make sure columns are the data types of the values they hold."
   ]
  },
  {
   "cell_type": "code",
   "execution_count": 22,
   "metadata": {},
   "outputs": [
    {
     "data": {
      "text/plain": [
       "region       object\n",
       "cs           object\n",
       "tweet        object\n",
       "lat         float64\n",
       "lon         float64\n",
       "language     object\n",
       "dtype: object"
      ]
     },
     "execution_count": 22,
     "metadata": {},
     "output_type": "execute_result"
    }
   ],
   "source": [
    "thesis.dtypes"
   ]
  },
  {
   "cell_type": "markdown",
   "metadata": {},
   "source": [
    "Define intended datatypes for each column."
   ]
  },
  {
   "cell_type": "code",
   "execution_count": 23,
   "metadata": {},
   "outputs": [],
   "source": [
    "columns = thesis.columns\n",
    "datatypes = ['object', 'bool', 'object', 'float64', 'float64', 'object']"
   ]
  },
  {
   "cell_type": "markdown",
   "metadata": {},
   "source": [
    "Assign columns correct datatypes."
   ]
  },
  {
   "cell_type": "code",
   "execution_count": 24,
   "metadata": {},
   "outputs": [],
   "source": [
    "for column, datatype in zip(columns, datatypes):\n",
    "    thesis[column] = thesis[column].astype(datatype)"
   ]
  },
  {
   "cell_type": "markdown",
   "metadata": {},
   "source": [
    "Inspect data to ensure integrity."
   ]
  },
  {
   "cell_type": "code",
   "execution_count": 25,
   "metadata": {},
   "outputs": [
    {
     "data": {
      "text/html": [
       "<div>\n",
       "<style scoped>\n",
       "    .dataframe tbody tr th:only-of-type {\n",
       "        vertical-align: middle;\n",
       "    }\n",
       "\n",
       "    .dataframe tbody tr th {\n",
       "        vertical-align: top;\n",
       "    }\n",
       "\n",
       "    .dataframe thead th {\n",
       "        text-align: right;\n",
       "    }\n",
       "</style>\n",
       "<table border=\"1\" class=\"dataframe\">\n",
       "  <thead>\n",
       "    <tr style=\"text-align: right;\">\n",
       "      <th></th>\n",
       "      <th>region</th>\n",
       "      <th>cs</th>\n",
       "      <th>tweet</th>\n",
       "      <th>lat</th>\n",
       "      <th>lon</th>\n",
       "      <th>language</th>\n",
       "    </tr>\n",
       "  </thead>\n",
       "  <tbody>\n",
       "    <tr>\n",
       "      <th>0</th>\n",
       "      <td>d</td>\n",
       "      <td>True</td>\n",
       "      <td>@gaaaabrielle_x watch ka? (:</td>\n",
       "      <td>6.936058</td>\n",
       "      <td>125.471194</td>\n",
       "      <td>Cebuano</td>\n",
       "    </tr>\n",
       "    <tr>\n",
       "      <th>1</th>\n",
       "      <td>d</td>\n",
       "      <td>True</td>\n",
       "      <td>\\ud83d \\ude4a \\ud83d \\ude0d \\ud83d \\udc95 \\ud...</td>\n",
       "      <td>7.039869</td>\n",
       "      <td>125.504724</td>\n",
       "      <td>0</td>\n",
       "    </tr>\n",
       "    <tr>\n",
       "      <th>2</th>\n",
       "      <td>d</td>\n",
       "      <td>True</td>\n",
       "      <td>@guibz11 @marcantonyaco tanggala na hacker to oh</td>\n",
       "      <td>7.077326</td>\n",
       "      <td>125.615586</td>\n",
       "      <td>Cebuano</td>\n",
       "    </tr>\n",
       "    <tr>\n",
       "      <th>3</th>\n",
       "      <td>d</td>\n",
       "      <td>True</td>\n",
       "      <td>Im already addicted to Angel Eyes' OSTs \\ud83...</td>\n",
       "      <td>7.051989</td>\n",
       "      <td>125.561496</td>\n",
       "      <td>0</td>\n",
       "    </tr>\n",
       "    <tr>\n",
       "      <th>4</th>\n",
       "      <td>d</td>\n",
       "      <td>True</td>\n",
       "      <td>impromtu meetup with hs friends (c) ipay http...</td>\n",
       "      <td>7.112516</td>\n",
       "      <td>125.618947</td>\n",
       "      <td>Cebuano</td>\n",
       "    </tr>\n",
       "  </tbody>\n",
       "</table>\n",
       "</div>"
      ],
      "text/plain": [
       "  region    cs                                              tweet       lat  \\\n",
       "0      d  True                       @gaaaabrielle_x watch ka? (:  6.936058   \n",
       "1      d  True   \\ud83d \\ude4a \\ud83d \\ude0d \\ud83d \\udc95 \\ud...  7.039869   \n",
       "2      d  True   @guibz11 @marcantonyaco tanggala na hacker to oh  7.077326   \n",
       "3      d  True   Im already addicted to Angel Eyes' OSTs \\ud83...  7.051989   \n",
       "4      d  True   impromtu meetup with hs friends (c) ipay http...  7.112516   \n",
       "\n",
       "          lon language  \n",
       "0  125.471194  Cebuano  \n",
       "1  125.504724        0  \n",
       "2  125.615586  Cebuano  \n",
       "3  125.561496        0  \n",
       "4  125.618947  Cebuano  "
      ]
     },
     "execution_count": 25,
     "metadata": {},
     "output_type": "execute_result"
    }
   ],
   "source": [
    "thesis.head()"
   ]
  },
  {
   "cell_type": "markdown",
   "metadata": {},
   "source": [
    "[to top](#top)\n",
    "\n",
    "### Augment Data <a id=\"augment_data\"></a>\n",
    "\n",
    "Add new columns representing new transformations to augment current dataset.\n",
    "\n",
    "#### Bucket Coordinate Data (Function Definition) <a id=\"augment_data_function_bucket\"></a>"
   ]
  },
  {
   "cell_type": "code",
   "execution_count": 45,
   "metadata": {},
   "outputs": [],
   "source": [
    "def bucket(data, coord='lat', step=1):\n",
    "    ''' Return data set with new bucketed lon or lat columns'''\n",
    "    \n",
    "    desc = data.describe()[coord]\n",
    "    \n",
    "    start = np.floor(desc['min']) - 1\n",
    "    stop = np.ceil(desc['max']) + 1\n",
    "    \n",
    "    buckets = np.arange(start, stop, step)\n",
    "    labels = buckets[:-1]\n",
    "    \n",
    "    bucketed_data = pd.cut(data[coord], buckets, labels=labels)\n",
    "    \n",
    "    return data.assign(**{f\"bucketed_{coord}\" : bucketed_data})"
   ]
  },
  {
   "cell_type": "markdown",
   "metadata": {},
   "source": [
    "Test out new data."
   ]
  },
  {
   "cell_type": "code",
   "execution_count": 47,
   "metadata": {},
   "outputs": [
    {
     "data": {
      "text/html": [
       "<div>\n",
       "<style scoped>\n",
       "    .dataframe tbody tr th:only-of-type {\n",
       "        vertical-align: middle;\n",
       "    }\n",
       "\n",
       "    .dataframe tbody tr th {\n",
       "        vertical-align: top;\n",
       "    }\n",
       "\n",
       "    .dataframe thead th {\n",
       "        text-align: right;\n",
       "    }\n",
       "</style>\n",
       "<table border=\"1\" class=\"dataframe\">\n",
       "  <thead>\n",
       "    <tr style=\"text-align: right;\">\n",
       "      <th></th>\n",
       "      <th>region</th>\n",
       "      <th>cs</th>\n",
       "      <th>tweet</th>\n",
       "      <th>lat</th>\n",
       "      <th>lon</th>\n",
       "      <th>language</th>\n",
       "      <th>bucketed_lat</th>\n",
       "    </tr>\n",
       "  </thead>\n",
       "  <tbody>\n",
       "    <tr>\n",
       "      <th>4185</th>\n",
       "      <td>c</td>\n",
       "      <td>True</td>\n",
       "      <td>@taralalalalala #Inspired</td>\n",
       "      <td>10.272719</td>\n",
       "      <td>123.848912</td>\n",
       "      <td>0</td>\n",
       "      <td>10.0</td>\n",
       "    </tr>\n",
       "    <tr>\n",
       "      <th>7203</th>\n",
       "      <td>m</td>\n",
       "      <td>True</td>\n",
       "      <td>Lami pa kaayo matulog! :( pero daghan kaayo k...</td>\n",
       "      <td>124.776796</td>\n",
       "      <td>8.510268</td>\n",
       "      <td>0</td>\n",
       "      <td>124.0</td>\n",
       "    </tr>\n",
       "    <tr>\n",
       "      <th>439</th>\n",
       "      <td>d</td>\n",
       "      <td>True</td>\n",
       "      <td>'Your account balance is not sufficient' \\ud8...</td>\n",
       "      <td>7.062825</td>\n",
       "      <td>125.596613</td>\n",
       "      <td>0</td>\n",
       "      <td>7.0</td>\n",
       "    </tr>\n",
       "  </tbody>\n",
       "</table>\n",
       "</div>"
      ],
      "text/plain": [
       "     region    cs                                              tweet  \\\n",
       "4185      c  True                         @taralalalalala #Inspired    \n",
       "7203      m  True   Lami pa kaayo matulog! :( pero daghan kaayo k...   \n",
       "439       d  True   'Your account balance is not sufficient' \\ud8...   \n",
       "\n",
       "             lat         lon language bucketed_lat  \n",
       "4185   10.272719  123.848912        0         10.0  \n",
       "7203  124.776796    8.510268        0        124.0  \n",
       "439     7.062825  125.596613        0          7.0  "
      ]
     },
     "execution_count": 47,
     "metadata": {},
     "output_type": "execute_result"
    }
   ],
   "source": [
    "bucket(thesis).sample(3)"
   ]
  },
  {
   "cell_type": "markdown",
   "metadata": {},
   "source": [
    "Bucket data and reassign to variable."
   ]
  },
  {
   "cell_type": "code",
   "execution_count": 49,
   "metadata": {},
   "outputs": [],
   "source": [
    "thesis = bucket(thesis, 'lat')\n",
    "thesis = bucket(thesis, 'lon')"
   ]
  },
  {
   "cell_type": "code",
   "execution_count": 50,
   "metadata": {},
   "outputs": [
    {
     "data": {
      "text/html": [
       "<div>\n",
       "<style scoped>\n",
       "    .dataframe tbody tr th:only-of-type {\n",
       "        vertical-align: middle;\n",
       "    }\n",
       "\n",
       "    .dataframe tbody tr th {\n",
       "        vertical-align: top;\n",
       "    }\n",
       "\n",
       "    .dataframe thead th {\n",
       "        text-align: right;\n",
       "    }\n",
       "</style>\n",
       "<table border=\"1\" class=\"dataframe\">\n",
       "  <thead>\n",
       "    <tr style=\"text-align: right;\">\n",
       "      <th></th>\n",
       "      <th>region</th>\n",
       "      <th>cs</th>\n",
       "      <th>tweet</th>\n",
       "      <th>lat</th>\n",
       "      <th>lon</th>\n",
       "      <th>language</th>\n",
       "      <th>bucketed_lat</th>\n",
       "      <th>bucketed_lon</th>\n",
       "    </tr>\n",
       "  </thead>\n",
       "  <tbody>\n",
       "    <tr>\n",
       "      <th>16</th>\n",
       "      <td>d</td>\n",
       "      <td>True</td>\n",
       "      <td>basically the team was betrayed by one of the...</td>\n",
       "      <td>7.107943</td>\n",
       "      <td>125.623106</td>\n",
       "      <td>0</td>\n",
       "      <td>7.0</td>\n",
       "      <td>125.0</td>\n",
       "    </tr>\n",
       "    <tr>\n",
       "      <th>252</th>\n",
       "      <td>d</td>\n",
       "      <td>True</td>\n",
       "      <td>Hi les. Pansinin mo nanan ako oh? \\ud83d \\udc...</td>\n",
       "      <td>7.101586</td>\n",
       "      <td>125.511443</td>\n",
       "      <td>Cebuano</td>\n",
       "      <td>7.0</td>\n",
       "      <td>125.0</td>\n",
       "    </tr>\n",
       "    <tr>\n",
       "      <th>5790</th>\n",
       "      <td>m</td>\n",
       "      <td>True</td>\n",
       "      <td>mkaligo nga muna</td>\n",
       "      <td>124.589496</td>\n",
       "      <td>8.469174</td>\n",
       "      <td>0</td>\n",
       "      <td>124.0</td>\n",
       "      <td>8.0</td>\n",
       "    </tr>\n",
       "  </tbody>\n",
       "</table>\n",
       "</div>"
      ],
      "text/plain": [
       "     region    cs                                              tweet  \\\n",
       "16        d  True   basically the team was betrayed by one of the...   \n",
       "252       d  True   Hi les. Pansinin mo nanan ako oh? \\ud83d \\udc...   \n",
       "5790      m  True                                   mkaligo nga muna   \n",
       "\n",
       "             lat         lon language bucketed_lat bucketed_lon  \n",
       "16      7.107943  125.623106        0          7.0        125.0  \n",
       "252     7.101586  125.511443  Cebuano          7.0        125.0  \n",
       "5790  124.589496    8.469174        0        124.0          8.0  "
      ]
     },
     "execution_count": 50,
     "metadata": {},
     "output_type": "execute_result"
    }
   ],
   "source": [
    "thesis.sample(3)"
   ]
  },
  {
   "cell_type": "markdown",
   "metadata": {},
   "source": [
    "[to top](#top)\n",
    "\n",
    "### Subset Data <a id=\"subset_data\"></a>\n",
    "\n",
    "Split data by a particular variable."
   ]
  },
  {
   "cell_type": "code",
   "execution_count": 51,
   "metadata": {},
   "outputs": [],
   "source": [
    "region_d = thesis[thesis.region == 'd']\n",
    "region_c = thesis[thesis.region == 'c']\n",
    "region_m = thesis[thesis.region == 'm']\n",
    "region_n = thesis[thesis.region == 'n']"
   ]
  },
  {
   "cell_type": "markdown",
   "metadata": {},
   "source": [
    "### Save Data and Subsets <a id=\"save_data\"></a>"
   ]
  },
  {
   "cell_type": "code",
   "execution_count": 53,
   "metadata": {},
   "outputs": [],
   "source": [
    "all_data = [thesis, region_d, region_c, region_m, region_n]\n",
    "filenames = ['thesis_data_', 'thesis_data_region_d', 'thesis_data_region_c', 'thesis_data_region_m', 'thesis_data_region_n']\n",
    "\n",
    "for datum, filename in zip(all_data, filenames):\n",
    "    datum.to_csv(PATH_TO_DATA / f\"{filename}.csv\", index=False)"
   ]
  },
  {
   "cell_type": "markdown",
   "metadata": {},
   "source": [
    "# END"
   ]
  }
 ],
 "metadata": {
  "kernelspec": {
   "display_name": "Python 3",
   "language": "python",
   "name": "python3"
  },
  "language_info": {
   "codemirror_mode": {
    "name": "ipython",
    "version": 3
   },
   "file_extension": ".py",
   "mimetype": "text/x-python",
   "name": "python",
   "nbconvert_exporter": "python",
   "pygments_lexer": "ipython3",
   "version": "3.7.3"
  }
 },
 "nbformat": 4,
 "nbformat_minor": 2
}
