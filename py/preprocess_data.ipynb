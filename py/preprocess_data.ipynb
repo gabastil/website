{
 "cells": [
  {
   "cell_type": "markdown",
   "metadata": {},
   "source": [
    "<a id=\"top\"></a>\n",
    "# Preprocessing Data\n",
    "Glenn Abastillas | February 26, 2020\n",
    "\n",
    "This notebook contains functions and logic to preprocess raw data before upload to the domain.\n",
    "\n",
    "Contents\n",
    "  1. [Load Data](#load_data)\n",
    "  1. [View Data](#view_data)\n",
    "  1. [Normalize Values](#normalize_values)\n",
    "  1. [Augment Data](#augment_data)\n",
    "  1. [Subset Data](#subset_data)\n",
    "  \n",
    "\n",
    "### Load Data <a id=\"load_data\"></a>"
   ]
  },
  {
   "cell_type": "code",
   "execution_count": 1,
   "metadata": {},
   "outputs": [],
   "source": [
    "import pandas as pd\n",
    "import numpy as np\n",
    "from pathlib import Path\n",
    "\n",
    "PATH_TO_DATA = Path(\"../resources/data\")\n",
    "THESIS = PATH_TO_DATA / \"thesis_data.csv\"\n",
    "LETTERS = PATH_TO_DATA / \"letters.csv\"\n",
    "\n",
    "thesis, letters = pd.read_csv(THESIS), pd.read_csv(LETTERS)"
   ]
  },
  {
   "cell_type": "markdown",
   "metadata": {},
   "source": [
    "[to top](#top)\n",
    "\n",
    "### View Data <a id=\"view_data\"></a>\n",
    "\n",
    "Visual inspection of the data before processing it."
   ]
  },
  {
   "cell_type": "code",
   "execution_count": 2,
   "metadata": {},
   "outputs": [
    {
     "data": {
      "text/html": [
       "<div>\n",
       "<style scoped>\n",
       "    .dataframe tbody tr th:only-of-type {\n",
       "        vertical-align: middle;\n",
       "    }\n",
       "\n",
       "    .dataframe tbody tr th {\n",
       "        vertical-align: top;\n",
       "    }\n",
       "\n",
       "    .dataframe thead th {\n",
       "        text-align: right;\n",
       "    }\n",
       "</style>\n",
       "<table border=\"1\" class=\"dataframe\">\n",
       "  <thead>\n",
       "    <tr style=\"text-align: right;\">\n",
       "      <th></th>\n",
       "      <th>region</th>\n",
       "      <th>cs</th>\n",
       "      <th>tweet</th>\n",
       "      <th>lat</th>\n",
       "      <th>lon</th>\n",
       "      <th>language</th>\n",
       "    </tr>\n",
       "  </thead>\n",
       "  <tbody>\n",
       "    <tr>\n",
       "      <th>208</th>\n",
       "      <td>d</td>\n",
       "      <td>FALSE</td>\n",
       "      <td>@polkamoca Are we even still friends? Hahahs</td>\n",
       "      <td>7.076248</td>\n",
       "      <td>125.617328</td>\n",
       "      <td>0</td>\n",
       "    </tr>\n",
       "    <tr>\n",
       "      <th>4444</th>\n",
       "      <td>c</td>\n",
       "      <td>FALSE</td>\n",
       "      <td>Som girls are like this. :( http://t.co/lTMe7...</td>\n",
       "      <td>10.243556</td>\n",
       "      <td>123.812597</td>\n",
       "      <td>0</td>\n",
       "    </tr>\n",
       "    <tr>\n",
       "      <th>6994</th>\n",
       "      <td>m</td>\n",
       "      <td>FALSE</td>\n",
       "      <td>@awkwardposts: How to get over a breakup http...</td>\n",
       "      <td>124.651338</td>\n",
       "      <td>8.476431</td>\n",
       "      <td>0</td>\n",
       "    </tr>\n",
       "    <tr>\n",
       "      <th>7352</th>\n",
       "      <td>n</td>\n",
       "      <td>FALSE</td>\n",
       "      <td>Kagwapo ani niya \\ud83d \\ude0d \\ud83d \\ude0d ...</td>\n",
       "      <td>9.514999</td>\n",
       "      <td>123.159509</td>\n",
       "      <td>0</td>\n",
       "    </tr>\n",
       "    <tr>\n",
       "      <th>4770</th>\n",
       "      <td>c</td>\n",
       "      <td>FALSE</td>\n",
       "      <td>Well uhm for... mondays to sundays lovers may...</td>\n",
       "      <td>10.243859</td>\n",
       "      <td>123.832365</td>\n",
       "      <td>0</td>\n",
       "    </tr>\n",
       "  </tbody>\n",
       "</table>\n",
       "</div>"
      ],
      "text/plain": [
       "     region     cs                                              tweet  \\\n",
       "208       d  FALSE       @polkamoca Are we even still friends? Hahahs   \n",
       "4444      c  FALSE   Som girls are like this. :( http://t.co/lTMe7...   \n",
       "6994      m  FALSE   @awkwardposts: How to get over a breakup http...   \n",
       "7352      n  FALSE   Kagwapo ani niya \\ud83d \\ude0d \\ud83d \\ude0d ...   \n",
       "4770      c  FALSE   Well uhm for... mondays to sundays lovers may...   \n",
       "\n",
       "             lat         lon language  \n",
       "208     7.076248  125.617328        0  \n",
       "4444   10.243556  123.812597        0  \n",
       "6994  124.651338    8.476431        0  \n",
       "7352    9.514999  123.159509        0  \n",
       "4770   10.243859  123.832365        0  "
      ]
     },
     "execution_count": 2,
     "metadata": {},
     "output_type": "execute_result"
    }
   ],
   "source": [
    "thesis.sample(5)"
   ]
  },
  {
   "cell_type": "markdown",
   "metadata": {},
   "source": [
    "[to top](#top)\n",
    "\n",
    "### Normalize Values <a id=\"normalize_values\"></a>\n",
    "\n",
    "Make sure columns are the data types of the values they hold."
   ]
  },
  {
   "cell_type": "code",
   "execution_count": 3,
   "metadata": {},
   "outputs": [
    {
     "data": {
      "text/plain": [
       "region       object\n",
       "cs           object\n",
       "tweet        object\n",
       "lat         float64\n",
       "lon         float64\n",
       "language     object\n",
       "dtype: object"
      ]
     },
     "execution_count": 3,
     "metadata": {},
     "output_type": "execute_result"
    }
   ],
   "source": [
    "thesis.dtypes"
   ]
  },
  {
   "cell_type": "markdown",
   "metadata": {},
   "source": [
    "Define intended datatypes for each column."
   ]
  },
  {
   "cell_type": "code",
   "execution_count": 4,
   "metadata": {},
   "outputs": [],
   "source": [
    "columns = thesis.columns\n",
    "datatypes = ['object', 'bool', 'object', 'float64', 'float64', 'object']"
   ]
  },
  {
   "cell_type": "markdown",
   "metadata": {},
   "source": [
    "Assign columns correct datatypes."
   ]
  },
  {
   "cell_type": "code",
   "execution_count": 5,
   "metadata": {},
   "outputs": [],
   "source": [
    "for column, datatype in zip(columns, datatypes):\n",
    "    thesis[column] = thesis[column].astype(datatype)"
   ]
  },
  {
   "cell_type": "markdown",
   "metadata": {},
   "source": [
    "Inspect data to ensure integrity."
   ]
  },
  {
   "cell_type": "code",
   "execution_count": 6,
   "metadata": {},
   "outputs": [
    {
     "data": {
      "text/html": [
       "<div>\n",
       "<style scoped>\n",
       "    .dataframe tbody tr th:only-of-type {\n",
       "        vertical-align: middle;\n",
       "    }\n",
       "\n",
       "    .dataframe tbody tr th {\n",
       "        vertical-align: top;\n",
       "    }\n",
       "\n",
       "    .dataframe thead th {\n",
       "        text-align: right;\n",
       "    }\n",
       "</style>\n",
       "<table border=\"1\" class=\"dataframe\">\n",
       "  <thead>\n",
       "    <tr style=\"text-align: right;\">\n",
       "      <th></th>\n",
       "      <th>region</th>\n",
       "      <th>cs</th>\n",
       "      <th>tweet</th>\n",
       "      <th>lat</th>\n",
       "      <th>lon</th>\n",
       "      <th>language</th>\n",
       "    </tr>\n",
       "  </thead>\n",
       "  <tbody>\n",
       "    <tr>\n",
       "      <th>0</th>\n",
       "      <td>d</td>\n",
       "      <td>True</td>\n",
       "      <td>@gaaaabrielle_x watch ka? (:</td>\n",
       "      <td>6.936058</td>\n",
       "      <td>125.471194</td>\n",
       "      <td>Cebuano</td>\n",
       "    </tr>\n",
       "    <tr>\n",
       "      <th>1</th>\n",
       "      <td>d</td>\n",
       "      <td>True</td>\n",
       "      <td>\\ud83d \\ude4a \\ud83d \\ude0d \\ud83d \\udc95 \\ud...</td>\n",
       "      <td>7.039869</td>\n",
       "      <td>125.504724</td>\n",
       "      <td>0</td>\n",
       "    </tr>\n",
       "    <tr>\n",
       "      <th>2</th>\n",
       "      <td>d</td>\n",
       "      <td>True</td>\n",
       "      <td>@guibz11 @marcantonyaco tanggala na hacker to oh</td>\n",
       "      <td>7.077326</td>\n",
       "      <td>125.615586</td>\n",
       "      <td>Cebuano</td>\n",
       "    </tr>\n",
       "    <tr>\n",
       "      <th>3</th>\n",
       "      <td>d</td>\n",
       "      <td>True</td>\n",
       "      <td>Im already addicted to Angel Eyes' OSTs \\ud83...</td>\n",
       "      <td>7.051989</td>\n",
       "      <td>125.561496</td>\n",
       "      <td>0</td>\n",
       "    </tr>\n",
       "    <tr>\n",
       "      <th>4</th>\n",
       "      <td>d</td>\n",
       "      <td>True</td>\n",
       "      <td>impromtu meetup with hs friends (c) ipay http...</td>\n",
       "      <td>7.112516</td>\n",
       "      <td>125.618947</td>\n",
       "      <td>Cebuano</td>\n",
       "    </tr>\n",
       "  </tbody>\n",
       "</table>\n",
       "</div>"
      ],
      "text/plain": [
       "  region    cs                                              tweet       lat  \\\n",
       "0      d  True                       @gaaaabrielle_x watch ka? (:  6.936058   \n",
       "1      d  True   \\ud83d \\ude4a \\ud83d \\ude0d \\ud83d \\udc95 \\ud...  7.039869   \n",
       "2      d  True   @guibz11 @marcantonyaco tanggala na hacker to oh  7.077326   \n",
       "3      d  True   Im already addicted to Angel Eyes' OSTs \\ud83...  7.051989   \n",
       "4      d  True   impromtu meetup with hs friends (c) ipay http...  7.112516   \n",
       "\n",
       "          lon language  \n",
       "0  125.471194  Cebuano  \n",
       "1  125.504724        0  \n",
       "2  125.615586  Cebuano  \n",
       "3  125.561496        0  \n",
       "4  125.618947  Cebuano  "
      ]
     },
     "execution_count": 6,
     "metadata": {},
     "output_type": "execute_result"
    }
   ],
   "source": [
    "thesis.head()"
   ]
  },
  {
   "cell_type": "markdown",
   "metadata": {},
   "source": [
    "[to top](#top)\n",
    "\n",
    "### Augment Data <a id=\"augment_data\"></a>\n",
    "\n",
    "Add new columns representing new transformations to augment current dataset.\n",
    "\n",
    "#### Bucket Coordinate Data (Function Definition) <a id=\"augment_data_function_bucket\"></a>"
   ]
  },
  {
   "cell_type": "code",
   "execution_count": 7,
   "metadata": {},
   "outputs": [],
   "source": [
    "def bucket(data, coord='lat', step=1):\n",
    "    ''' Return data set with new bucketed lon or lat columns'''\n",
    "    \n",
    "    desc = data.describe()[coord]\n",
    "    \n",
    "    start = np.floor(desc['min']) - 1\n",
    "    stop = np.ceil(desc['max']) + 1\n",
    "    \n",
    "    buckets = np.arange(start, stop, step)\n",
    "    labels = buckets[:-1]\n",
    "    \n",
    "    bucketed_data = pd.cut(data[coord], buckets, labels=labels)\n",
    "    \n",
    "    return data.assign(**{f\"bucketed_{coord}\" : bucketed_data})"
   ]
  },
  {
   "cell_type": "markdown",
   "metadata": {},
   "source": [
    "Test out new data."
   ]
  },
  {
   "cell_type": "code",
   "execution_count": 8,
   "metadata": {},
   "outputs": [
    {
     "data": {
      "text/html": [
       "<div>\n",
       "<style scoped>\n",
       "    .dataframe tbody tr th:only-of-type {\n",
       "        vertical-align: middle;\n",
       "    }\n",
       "\n",
       "    .dataframe tbody tr th {\n",
       "        vertical-align: top;\n",
       "    }\n",
       "\n",
       "    .dataframe thead th {\n",
       "        text-align: right;\n",
       "    }\n",
       "</style>\n",
       "<table border=\"1\" class=\"dataframe\">\n",
       "  <thead>\n",
       "    <tr style=\"text-align: right;\">\n",
       "      <th></th>\n",
       "      <th>region</th>\n",
       "      <th>cs</th>\n",
       "      <th>tweet</th>\n",
       "      <th>lat</th>\n",
       "      <th>lon</th>\n",
       "      <th>language</th>\n",
       "      <th>bucketed_lat</th>\n",
       "    </tr>\n",
       "  </thead>\n",
       "  <tbody>\n",
       "    <tr>\n",
       "      <th>755</th>\n",
       "      <td>d</td>\n",
       "      <td>True</td>\n",
       "      <td>Next meeting na lage daw. Tagal makaintindi \\...</td>\n",
       "      <td>7.071775</td>\n",
       "      <td>125.603630</td>\n",
       "      <td>Cebuano</td>\n",
       "      <td>7.0</td>\n",
       "    </tr>\n",
       "    <tr>\n",
       "      <th>5479</th>\n",
       "      <td>c</td>\n",
       "      <td>True</td>\n",
       "      <td>@zeerrific wala. Y u so oa</td>\n",
       "      <td>10.334674</td>\n",
       "      <td>123.900262</td>\n",
       "      <td>Cebuano</td>\n",
       "      <td>10.0</td>\n",
       "    </tr>\n",
       "    <tr>\n",
       "      <th>7032</th>\n",
       "      <td>m</td>\n",
       "      <td>True</td>\n",
       "      <td>@BrentRivera \\u2764 \\u2764 \\u2764</td>\n",
       "      <td>124.660672</td>\n",
       "      <td>8.474473</td>\n",
       "      <td>0</td>\n",
       "      <td>124.0</td>\n",
       "    </tr>\n",
       "  </tbody>\n",
       "</table>\n",
       "</div>"
      ],
      "text/plain": [
       "     region    cs                                              tweet  \\\n",
       "755       d  True   Next meeting na lage daw. Tagal makaintindi \\...   \n",
       "5479      c  True                         @zeerrific wala. Y u so oa   \n",
       "7032      m  True                  @BrentRivera \\u2764 \\u2764 \\u2764   \n",
       "\n",
       "             lat         lon language bucketed_lat  \n",
       "755     7.071775  125.603630  Cebuano          7.0  \n",
       "5479   10.334674  123.900262  Cebuano         10.0  \n",
       "7032  124.660672    8.474473        0        124.0  "
      ]
     },
     "execution_count": 8,
     "metadata": {},
     "output_type": "execute_result"
    }
   ],
   "source": [
    "bucket(thesis).sample(3)"
   ]
  },
  {
   "cell_type": "markdown",
   "metadata": {},
   "source": [
    "Bucket data and reassign to variable."
   ]
  },
  {
   "cell_type": "code",
   "execution_count": 9,
   "metadata": {},
   "outputs": [],
   "source": [
    "thesis = bucket(thesis, 'lat')\n",
    "thesis = bucket(thesis, 'lon')"
   ]
  },
  {
   "cell_type": "code",
   "execution_count": 10,
   "metadata": {},
   "outputs": [
    {
     "data": {
      "text/html": [
       "<div>\n",
       "<style scoped>\n",
       "    .dataframe tbody tr th:only-of-type {\n",
       "        vertical-align: middle;\n",
       "    }\n",
       "\n",
       "    .dataframe tbody tr th {\n",
       "        vertical-align: top;\n",
       "    }\n",
       "\n",
       "    .dataframe thead th {\n",
       "        text-align: right;\n",
       "    }\n",
       "</style>\n",
       "<table border=\"1\" class=\"dataframe\">\n",
       "  <thead>\n",
       "    <tr style=\"text-align: right;\">\n",
       "      <th></th>\n",
       "      <th>region</th>\n",
       "      <th>cs</th>\n",
       "      <th>tweet</th>\n",
       "      <th>lat</th>\n",
       "      <th>lon</th>\n",
       "      <th>language</th>\n",
       "      <th>bucketed_lat</th>\n",
       "      <th>bucketed_lon</th>\n",
       "    </tr>\n",
       "  </thead>\n",
       "  <tbody>\n",
       "    <tr>\n",
       "      <th>5515</th>\n",
       "      <td>c</td>\n",
       "      <td>True</td>\n",
       "      <td>I've always loved rain! Brought me back to my...</td>\n",
       "      <td>10.336549</td>\n",
       "      <td>123.907715</td>\n",
       "      <td>0</td>\n",
       "      <td>10.0</td>\n",
       "      <td>123.0</td>\n",
       "    </tr>\n",
       "    <tr>\n",
       "      <th>4553</th>\n",
       "      <td>c</td>\n",
       "      <td>True</td>\n",
       "      <td>Thinking bout downloading snapchat again \\ud8...</td>\n",
       "      <td>10.264805</td>\n",
       "      <td>123.824452</td>\n",
       "      <td>0</td>\n",
       "      <td>10.0</td>\n",
       "      <td>123.0</td>\n",
       "    </tr>\n",
       "    <tr>\n",
       "      <th>7538</th>\n",
       "      <td>n</td>\n",
       "      <td>True</td>\n",
       "      <td>Follow @AwesomeTrixia01 \\ud83d \\ude0a</td>\n",
       "      <td>9.313211</td>\n",
       "      <td>123.275857</td>\n",
       "      <td>0</td>\n",
       "      <td>9.0</td>\n",
       "      <td>123.0</td>\n",
       "    </tr>\n",
       "  </tbody>\n",
       "</table>\n",
       "</div>"
      ],
      "text/plain": [
       "     region    cs                                              tweet  \\\n",
       "5515      c  True   I've always loved rain! Brought me back to my...   \n",
       "4553      c  True   Thinking bout downloading snapchat again \\ud8...   \n",
       "7538      n  True              Follow @AwesomeTrixia01 \\ud83d \\ude0a   \n",
       "\n",
       "            lat         lon language bucketed_lat bucketed_lon  \n",
       "5515  10.336549  123.907715        0         10.0        123.0  \n",
       "4553  10.264805  123.824452        0         10.0        123.0  \n",
       "7538   9.313211  123.275857        0          9.0        123.0  "
      ]
     },
     "execution_count": 10,
     "metadata": {},
     "output_type": "execute_result"
    }
   ],
   "source": [
    "thesis.sample(3)"
   ]
  },
  {
   "cell_type": "markdown",
   "metadata": {},
   "source": [
    "[to top](#top)\n",
    "\n",
    "### Subset Data <a id=\"subset_data\"></a>\n",
    "\n",
    "Split data by a particular variable."
   ]
  },
  {
   "cell_type": "code",
   "execution_count": 11,
   "metadata": {},
   "outputs": [],
   "source": [
    "region_d = thesis[thesis.region == 'd']\n",
    "region_c = thesis[thesis.region == 'c']\n",
    "region_m = thesis[thesis.region == 'm']\n",
    "region_n = thesis[thesis.region == 'n']"
   ]
  },
  {
   "cell_type": "markdown",
   "metadata": {},
   "source": [
    "### Save Data and Subsets <a id=\"save_data\"></a>\n",
    "\n",
    "Indicate the file type to save the data as. Default is `csv`."
   ]
  },
  {
   "cell_type": "code",
   "execution_count": 14,
   "metadata": {},
   "outputs": [],
   "source": [
    "filetype = 'json'"
   ]
  },
  {
   "cell_type": "code",
   "execution_count": 16,
   "metadata": {},
   "outputs": [],
   "source": [
    "all_data = [thesis, region_d, region_c, region_m, region_n]\n",
    "filenames = ['thesis_data_', 'thesis_data_region_d', 'thesis_data_region_c', 'thesis_data_region_m', 'thesis_data_region_n']\n",
    "\n",
    "for datum, filename in zip(all_data, filenames):\n",
    "    if filetype == 'csv':\n",
    "        save = datum.to_csv\n",
    "        index = {\"index\" : False}\n",
    "    elif filetype == 'json':\n",
    "        save = datum.to_json\n",
    "        index = {}\n",
    "    \n",
    "    save(PATH_TO_DATA / f\"{filename}.{filetype}\", **index)"
   ]
  },
  {
   "cell_type": "markdown",
   "metadata": {},
   "source": [
    "# END"
   ]
  }
 ],
 "metadata": {
  "kernelspec": {
   "display_name": "Python 3",
   "language": "python",
   "name": "python3"
  },
  "language_info": {
   "codemirror_mode": {
    "name": "ipython",
    "version": 3
   },
   "file_extension": ".py",
   "mimetype": "text/x-python",
   "name": "python",
   "nbconvert_exporter": "python",
   "pygments_lexer": "ipython3",
   "version": "3.6.9"
  }
 },
 "nbformat": 4,
 "nbformat_minor": 2
}
